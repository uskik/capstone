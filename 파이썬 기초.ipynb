{
 "cells": [
  {
   "cell_type": "markdown",
   "id": "a0748cae",
   "metadata": {},
   "source": [
    "조건문 if"
   ]
  },
  {
   "cell_type": "code",
   "execution_count": 1,
   "id": "6cbdab2a",
   "metadata": {},
   "outputs": [],
   "source": [
    "a=3 "
   ]
  },
  {
   "cell_type": "code",
   "execution_count": 2,
   "id": "a9c16381",
   "metadata": {},
   "outputs": [
    {
     "name": "stdout",
     "output_type": "stream",
     "text": [
      "a is greather than 1\n"
     ]
    }
   ],
   "source": [
    "if a>1:\n",
    "    print(\"a is greather than 1\")"
   ]
  },
  {
   "cell_type": "markdown",
   "id": "33a9ebbc",
   "metadata": {},
   "source": [
    "반복문 for"
   ]
  },
  {
   "cell_type": "code",
   "execution_count": 3,
   "id": "4b9ba43e",
   "metadata": {},
   "outputs": [
    {
     "name": "stdout",
     "output_type": "stream",
     "text": [
      "1\n",
      "2\n",
      "3\n"
     ]
    }
   ],
   "source": [
    "for a in [1,2,3]:\n",
    "    print(a)"
   ]
  },
  {
   "cell_type": "markdown",
   "id": "d1697c4a",
   "metadata": {},
   "source": [
    "반복문 while"
   ]
  },
  {
   "cell_type": "code",
   "execution_count": 4,
   "id": "fa707a00",
   "metadata": {},
   "outputs": [
    {
     "name": "stdout",
     "output_type": "stream",
     "text": [
      "1\n",
      "2\n",
      "3\n"
     ]
    }
   ],
   "source": [
    "i=0\n",
    "while i<3:\n",
    "    i=i+1\n",
    "    print(i)"
   ]
  },
  {
   "cell_type": "markdown",
   "id": "6d8941ff",
   "metadata": {},
   "source": [
    "함수"
   ]
  },
  {
   "cell_type": "code",
   "execution_count": 5,
   "id": "2cbb7916",
   "metadata": {},
   "outputs": [],
   "source": [
    "def add(a,b):\n",
    "    return a+b"
   ]
  },
  {
   "cell_type": "code",
   "execution_count": 6,
   "id": "c0c3e04c",
   "metadata": {},
   "outputs": [
    {
     "data": {
      "text/plain": [
       "7"
      ]
     },
     "execution_count": 6,
     "metadata": {},
     "output_type": "execute_result"
    }
   ],
   "source": [
    "add(3,4)"
   ]
  },
  {
   "cell_type": "markdown",
   "id": "1c048a8d",
   "metadata": {},
   "source": [
    "정수형"
   ]
  },
  {
   "cell_type": "code",
   "execution_count": 8,
   "id": "889544a9",
   "metadata": {},
   "outputs": [],
   "source": [
    "#int\n",
    "a= 123\n",
    "b= -178\n",
    "c= 0"
   ]
  },
  {
   "cell_type": "markdown",
   "id": "9a304fd6",
   "metadata": {},
   "source": [
    "실수형"
   ]
  },
  {
   "cell_type": "code",
   "execution_count": 10,
   "id": "e8111874",
   "metadata": {},
   "outputs": [],
   "source": [
    "#float\n",
    "a=1.2\n",
    "a=-3.45"
   ]
  },
  {
   "cell_type": "markdown",
   "id": "7d10a696",
   "metadata": {},
   "source": [
    "사칙연산"
   ]
  },
  {
   "cell_type": "code",
   "execution_count": 13,
   "id": "d6b8f5dd",
   "metadata": {},
   "outputs": [
    {
     "data": {
      "text/plain": [
       "1"
      ]
     },
     "execution_count": 13,
     "metadata": {},
     "output_type": "execute_result"
    }
   ],
   "source": [
    "a=3\n",
    "b=5\n",
    "a+b\n",
    "\n",
    "7%3"
   ]
  },
  {
   "cell_type": "markdown",
   "id": "058730a3",
   "metadata": {},
   "source": [
    "문자열 자료형"
   ]
  },
  {
   "cell_type": "code",
   "execution_count": 14,
   "id": "f10962ac",
   "metadata": {},
   "outputs": [
    {
     "data": {
      "text/plain": [
       "'Hello world'"
      ]
     },
     "execution_count": 14,
     "metadata": {},
     "output_type": "execute_result"
    }
   ],
   "source": [
    "#str\n",
    "\"Hello world\""
   ]
  },
  {
   "cell_type": "code",
   "execution_count": 15,
   "id": "03e549bf",
   "metadata": {},
   "outputs": [],
   "source": [
    "food=\"banana\" "
   ]
  },
  {
   "cell_type": "code",
   "execution_count": 16,
   "id": "d81c297c",
   "metadata": {},
   "outputs": [
    {
     "data": {
      "text/plain": [
       "'banana'"
      ]
     },
     "execution_count": 16,
     "metadata": {},
     "output_type": "execute_result"
    }
   ],
   "source": [
    "food"
   ]
  },
  {
   "cell_type": "markdown",
   "id": "2687441d",
   "metadata": {},
   "source": [
    "이스케이프 코드 \n",
    "\n",
    "\\n: 문자열 안에서 줄을 바꿀 때 사용\n",
    "\n",
    "\n",
    "\\t: 문자열 사이 탭 간격 줄 때 사용 "
   ]
  },
  {
   "cell_type": "markdown",
   "id": "22cd4bda",
   "metadata": {},
   "source": [
    "문자열 길이 구하기"
   ]
  },
  {
   "cell_type": "code",
   "execution_count": 25,
   "id": "d94e0e1a",
   "metadata": {},
   "outputs": [],
   "source": [
    "a= \"afadsfotkkasdjfolasdfusariowe\""
   ]
  },
  {
   "cell_type": "code",
   "execution_count": 26,
   "id": "3da36030",
   "metadata": {},
   "outputs": [
    {
     "name": "stdout",
     "output_type": "stream",
     "text": [
      "29\n"
     ]
    }
   ],
   "source": [
    "print(len(a))"
   ]
  },
  {
   "cell_type": "markdown",
   "id": "57da822c",
   "metadata": {},
   "source": [
    "문자열 인덱싱 "
   ]
  },
  {
   "cell_type": "code",
   "execution_count": 27,
   "id": "aca7b3d7",
   "metadata": {},
   "outputs": [],
   "source": [
    "a= \"happy i like happy\""
   ]
  },
  {
   "cell_type": "code",
   "execution_count": 29,
   "id": "79c0ef79",
   "metadata": {},
   "outputs": [
    {
     "data": {
      "text/plain": [
       "'p'"
      ]
     },
     "execution_count": 29,
     "metadata": {},
     "output_type": "execute_result"
    }
   ],
   "source": [
    "a[2] #0부터 시작합니다"
   ]
  },
  {
   "cell_type": "code",
   "execution_count": 32,
   "id": "6503106b",
   "metadata": {},
   "outputs": [
    {
     "data": {
      "text/plain": [
       "'a'"
      ]
     },
     "execution_count": 32,
     "metadata": {},
     "output_type": "execute_result"
    }
   ],
   "source": [
    "a[-4] # 거꾸로의 방법"
   ]
  },
  {
   "cell_type": "markdown",
   "id": "8d7f3c33",
   "metadata": {},
   "source": [
    "슬라이싱 기법"
   ]
  },
  {
   "cell_type": "code",
   "execution_count": 34,
   "id": "a761fd7b",
   "metadata": {},
   "outputs": [
    {
     "data": {
      "text/plain": [
       "'happy'"
      ]
     },
     "execution_count": 34,
     "metadata": {},
     "output_type": "execute_result"
    }
   ],
   "source": [
    "a[0:5]"
   ]
  },
  {
   "cell_type": "code",
   "execution_count": 37,
   "id": "140e1917",
   "metadata": {},
   "outputs": [
    {
     "data": {
      "text/plain": [
       "'like happy'"
      ]
     },
     "execution_count": 37,
     "metadata": {},
     "output_type": "execute_result"
    }
   ],
   "source": [
    "a[8:]"
   ]
  },
  {
   "cell_type": "code",
   "execution_count": 38,
   "id": "7871dea2",
   "metadata": {},
   "outputs": [
    {
     "data": {
      "text/plain": [
       "'happy i like happy'"
      ]
     },
     "execution_count": 38,
     "metadata": {},
     "output_type": "execute_result"
    }
   ],
   "source": [
    "a[:]"
   ]
  },
  {
   "cell_type": "code",
   "execution_count": 39,
   "id": "7b846e94",
   "metadata": {},
   "outputs": [
    {
     "data": {
      "text/plain": [
       "' i like ha'"
      ]
     },
     "execution_count": 39,
     "metadata": {},
     "output_type": "execute_result"
    }
   ],
   "source": [
    "a[5:-3]"
   ]
  },
  {
   "cell_type": "markdown",
   "id": "b9ac2583",
   "metadata": {},
   "source": [
    "문자열 포맷팅"
   ]
  },
  {
   "cell_type": "markdown",
   "id": "e53d586b",
   "metadata": {},
   "source": [
    "1. 숫자 바로 대입 "
   ]
  },
  {
   "cell_type": "code",
   "execution_count": 43,
   "id": "9a87136b",
   "metadata": {},
   "outputs": [
    {
     "data": {
      "text/plain": [
       "'i eat 3 apples'"
      ]
     },
     "execution_count": 43,
     "metadata": {},
     "output_type": "execute_result"
    }
   ],
   "source": [
    "'i eat %d apples' % 3"
   ]
  },
  {
   "cell_type": "markdown",
   "id": "de795424",
   "metadata": {},
   "source": [
    "2. 문자열 바로 대입"
   ]
  },
  {
   "cell_type": "code",
   "execution_count": 44,
   "id": "e5f9735b",
   "metadata": {},
   "outputs": [
    {
     "data": {
      "text/plain": [
       "'i eat five apples'"
      ]
     },
     "execution_count": 44,
     "metadata": {},
     "output_type": "execute_result"
    }
   ],
   "source": [
    "\"i eat %s apples\" %\"five\""
   ]
  },
  {
   "cell_type": "markdown",
   "id": "d6e6e0d1",
   "metadata": {},
   "source": [
    "3. 숫자 값을 나타내는 변수로 대입"
   ]
  },
  {
   "cell_type": "code",
   "execution_count": 52,
   "id": "182b8038",
   "metadata": {},
   "outputs": [
    {
     "data": {
      "text/plain": [
       "'i eat 3 apples'"
      ]
     },
     "execution_count": 52,
     "metadata": {},
     "output_type": "execute_result"
    }
   ],
   "source": [
    "number=3\n",
    "\n",
    "'i eat %d apples' % number"
   ]
  },
  {
   "cell_type": "markdown",
   "id": "b34b53de",
   "metadata": {},
   "source": [
    "문자열 포맷 코드"
   ]
  },
  {
   "cell_type": "markdown",
   "id": "4baa3ebe",
   "metadata": {},
   "source": [
    "%s 문자열 \n",
    "\n",
    "\n",
    "%d 정수 \n",
    "\n",
    "\n",
    "%f  부동 소수"
   ]
  },
  {
   "cell_type": "markdown",
   "id": "4479031f",
   "metadata": {},
   "source": [
    " 1. 정렬과 공백"
   ]
  },
  {
   "cell_type": "code",
   "execution_count": 54,
   "id": "20b8dbf4",
   "metadata": {},
   "outputs": [
    {
     "data": {
      "text/plain": [
       "'        hi'"
      ]
     },
     "execution_count": 54,
     "metadata": {},
     "output_type": "execute_result"
    }
   ],
   "source": [
    "\"%10s\" % \"hi\""
   ]
  },
  {
   "cell_type": "markdown",
   "id": "19dc74c8",
   "metadata": {},
   "source": [
    "문자열 관련 함수"
   ]
  },
  {
   "cell_type": "code",
   "execution_count": 57,
   "id": "f0bac6f4",
   "metadata": {},
   "outputs": [
    {
     "data": {
      "text/plain": [
       "2"
      ]
     },
     "execution_count": 57,
     "metadata": {},
     "output_type": "execute_result"
    }
   ],
   "source": [
    "A = \"hobby\"\n",
    "A.count('b') #b 몇개 인지 세기 "
   ]
  },
  {
   "cell_type": "code",
   "execution_count": 60,
   "id": "d11bd337",
   "metadata": {},
   "outputs": [
    {
     "data": {
      "text/plain": [
       "1"
      ]
     },
     "execution_count": 60,
     "metadata": {},
     "output_type": "execute_result"
    }
   ],
   "source": [
    "A = 'hello my name is'\n",
    "A.find('e') #위치 알려주기"
   ]
  },
  {
   "cell_type": "code",
   "execution_count": 63,
   "id": "b1ee7475",
   "metadata": {},
   "outputs": [
    {
     "data": {
      "text/plain": [
       "8"
      ]
     },
     "execution_count": 63,
     "metadata": {},
     "output_type": "execute_result"
    }
   ],
   "source": [
    "A = \"Life is too short\"\n",
    "A.index('t') #위치알려주기2"
   ]
  },
  {
   "cell_type": "code",
   "execution_count": 86,
   "id": "be01ac27",
   "metadata": {},
   "outputs": [],
   "source": [
    "ff=\",\".join('abcd')\n",
    "#문자열 삽입"
   ]
  },
  {
   "cell_type": "code",
   "execution_count": 68,
   "id": "85029e50",
   "metadata": {},
   "outputs": [
    {
     "data": {
      "text/plain": [
       "'hi'"
      ]
     },
     "execution_count": 68,
     "metadata": {},
     "output_type": "execute_result"
    }
   ],
   "source": [
    "a=\"hi\"\n",
    "a.upper()\n",
    "b=\"HI\"\n",
    "b.lower()"
   ]
  },
  {
   "cell_type": "code",
   "execution_count": 70,
   "id": "eae8bfb3",
   "metadata": {},
   "outputs": [
    {
     "data": {
      "text/plain": [
       "'hi'"
      ]
     },
     "execution_count": 70,
     "metadata": {},
     "output_type": "execute_result"
    }
   ],
   "source": [
    "a =\" hi\"\n",
    "a.lstrip() # 왼쪽 공백 지우기"
   ]
  },
  {
   "cell_type": "code",
   "execution_count": 72,
   "id": "8d981146",
   "metadata": {},
   "outputs": [
    {
     "data": {
      "text/plain": [
       "' hi'"
      ]
     },
     "execution_count": 72,
     "metadata": {},
     "output_type": "execute_result"
    }
   ],
   "source": [
    "a = \" hi \"\n",
    "a.rstrip() #오른쪽 공백 지우기 "
   ]
  },
  {
   "cell_type": "code",
   "execution_count": 75,
   "id": "9062f11d",
   "metadata": {},
   "outputs": [
    {
     "data": {
      "text/plain": [
       "'hi'"
      ]
     },
     "execution_count": 75,
     "metadata": {},
     "output_type": "execute_result"
    }
   ],
   "source": [
    "a = \" hi \"\n",
    "a.strip() #양쪽 공백 지우기"
   ]
  },
  {
   "cell_type": "markdown",
   "id": "a6f83d80",
   "metadata": {},
   "source": [
    "replace(바뀌게 될 문자열, 바꿀 문자열)"
   ]
  },
  {
   "cell_type": "code",
   "execution_count": 81,
   "id": "b4113c23",
   "metadata": {},
   "outputs": [],
   "source": [
    "a = \"LIFE IS TO SHORT\""
   ]
  },
  {
   "cell_type": "code",
   "execution_count": 82,
   "id": "1eed0472",
   "metadata": {},
   "outputs": [
    {
     "data": {
      "text/plain": [
       "'YOUR LEG IS TO SHORT'"
      ]
     },
     "execution_count": 82,
     "metadata": {},
     "output_type": "execute_result"
    }
   ],
   "source": [
    "a.replace(\"LIFE\",\"YOUR LEG\")"
   ]
  },
  {
   "cell_type": "markdown",
   "id": "03d3d207",
   "metadata": {},
   "source": [
    "split(문자열 나누기)"
   ]
  },
  {
   "cell_type": "code",
   "execution_count": 83,
   "id": "63d3b107",
   "metadata": {},
   "outputs": [
    {
     "data": {
      "text/plain": [
       "['LIFE', 'IS', 'TO', 'SHORT']"
      ]
     },
     "execution_count": 83,
     "metadata": {},
     "output_type": "execute_result"
    }
   ],
   "source": [
    "a.split()"
   ]
  },
  {
   "cell_type": "code",
   "execution_count": 85,
   "id": "04712653",
   "metadata": {},
   "outputs": [
    {
     "data": {
      "text/plain": [
       "['a', 'b', 'c', 'd']"
      ]
     },
     "execution_count": 85,
     "metadata": {},
     "output_type": "execute_result"
    }
   ],
   "source": [
    "ff.split(',')"
   ]
  },
  {
   "cell_type": "markdown",
   "id": "50360212",
   "metadata": {},
   "source": [
    "리스트 "
   ]
  },
  {
   "cell_type": "code",
   "execution_count": 1,
   "id": "7e9c7190",
   "metadata": {},
   "outputs": [],
   "source": [
    "odd=[1,2,3,4,5]"
   ]
  },
  {
   "cell_type": "markdown",
   "id": "c040abc1",
   "metadata": {},
   "source": [
    "리스트 관련 함수"
   ]
  },
  {
   "cell_type": "code",
   "execution_count": 5,
   "id": "2574acca",
   "metadata": {},
   "outputs": [],
   "source": [
    "a = [1,2,3]\n",
    "a.append(4) # 리스트의 맨 마지막 추가"
   ]
  },
  {
   "cell_type": "code",
   "execution_count": 8,
   "id": "b79a5a7c",
   "metadata": {},
   "outputs": [
    {
     "name": "stdout",
     "output_type": "stream",
     "text": [
      "[1, 3, 4, 5, 6]\n"
     ]
    }
   ],
   "source": [
    "a=[1,5,6,3,4]\n",
    "a.sort() # 리스트 정렬\n",
    "print(a)"
   ]
  },
  {
   "cell_type": "code",
   "execution_count": 11,
   "id": "f6f6452e",
   "metadata": {},
   "outputs": [
    {
     "data": {
      "text/plain": [
       "['b', 'c', 'a']"
      ]
     },
     "execution_count": 11,
     "metadata": {},
     "output_type": "execute_result"
    }
   ],
   "source": [
    "a=['a','c','b']\n",
    "a.reverse() #리스트 뒤집기\n",
    "a"
   ]
  },
  {
   "cell_type": "code",
   "execution_count": 15,
   "id": "5bd58f3a",
   "metadata": {},
   "outputs": [
    {
     "data": {
      "text/plain": [
       "2"
      ]
     },
     "execution_count": 15,
     "metadata": {},
     "output_type": "execute_result"
    }
   ],
   "source": [
    "a.index('a') #위치반환 "
   ]
  },
  {
   "cell_type": "code",
   "execution_count": 18,
   "id": "98d419b6",
   "metadata": {},
   "outputs": [],
   "source": [
    "a.insert(0,4) # 0자리에 4집어넣어라 "
   ]
  },
  {
   "cell_type": "code",
   "execution_count": 17,
   "id": "ccae746d",
   "metadata": {},
   "outputs": [
    {
     "data": {
      "text/plain": [
       "[4, 'b', 'c', 'a']"
      ]
     },
     "execution_count": 17,
     "metadata": {},
     "output_type": "execute_result"
    }
   ],
   "source": [
    "a"
   ]
  },
  {
   "cell_type": "code",
   "execution_count": 1,
   "id": "2965c888",
   "metadata": {},
   "outputs": [],
   "source": [
    "a=[1,2,3]"
   ]
  },
  {
   "cell_type": "code",
   "execution_count": 3,
   "id": "c808d4ac",
   "metadata": {},
   "outputs": [
    {
     "data": {
      "text/plain": [
       "[1, 2, 3, 4, 5, 4, 5]"
      ]
     },
     "execution_count": 3,
     "metadata": {},
     "output_type": "execute_result"
    }
   ],
   "source": [
    "a.extend([4,5])\n",
    "a"
   ]
  },
  {
   "cell_type": "markdown",
   "id": "39c9cd4d",
   "metadata": {},
   "source": [
    "튜플"
   ]
  },
  {
   "cell_type": "markdown",
   "id": "459bab57",
   "metadata": {},
   "source": [
    " 튜플은 그 값을 바꿀 수 없다"
   ]
  },
  {
   "cell_type": "markdown",
   "id": "0e439897",
   "metadata": {},
   "source": [
    "()로 진행 된 형태이다 그 외는 리스트로 동일"
   ]
  },
  {
   "cell_type": "markdown",
   "id": "2d30c1c4",
   "metadata": {},
   "source": [
    "딕셔너리 "
   ]
  },
  {
   "cell_type": "code",
   "execution_count": 4,
   "id": "817233ff",
   "metadata": {},
   "outputs": [],
   "source": [
    "dic= {'name':'pey','phone':'010~'}"
   ]
  },
  {
   "cell_type": "code",
   "execution_count": 5,
   "id": "b5f7fc42",
   "metadata": {},
   "outputs": [
    {
     "data": {
      "text/plain": [
       "{'name': 'pey', 'phone': '010~'}"
      ]
     },
     "execution_count": 5,
     "metadata": {},
     "output_type": "execute_result"
    }
   ],
   "source": [
    "dic"
   ]
  },
  {
   "cell_type": "code",
   "execution_count": 14,
   "id": "7b37cecc",
   "metadata": {},
   "outputs": [],
   "source": [
    "a={1:'a'}\n",
    "a[3]='b'"
   ]
  },
  {
   "cell_type": "code",
   "execution_count": 15,
   "id": "e9c8b4af",
   "metadata": {},
   "outputs": [
    {
     "data": {
      "text/plain": [
       "{1: 'a', 3: 'b'}"
      ]
     },
     "execution_count": 15,
     "metadata": {},
     "output_type": "execute_result"
    }
   ],
   "source": [
    "a"
   ]
  },
  {
   "cell_type": "code",
   "execution_count": 16,
   "id": "620527b0",
   "metadata": {},
   "outputs": [
    {
     "data": {
      "text/plain": [
       "dict_keys(['name', 'phone'])"
      ]
     },
     "execution_count": 16,
     "metadata": {},
     "output_type": "execute_result"
    }
   ],
   "source": [
    "dic.keys()"
   ]
  },
  {
   "cell_type": "code",
   "execution_count": 17,
   "id": "250e4cff",
   "metadata": {},
   "outputs": [
    {
     "name": "stdout",
     "output_type": "stream",
     "text": [
      "1\n",
      "3\n"
     ]
    }
   ],
   "source": [
    "for k in a.keys():\n",
    "    print(k)"
   ]
  },
  {
   "cell_type": "code",
   "execution_count": 18,
   "id": "bfa4d183",
   "metadata": {},
   "outputs": [
    {
     "data": {
      "text/plain": [
       "[1, 3]"
      ]
     },
     "execution_count": 18,
     "metadata": {},
     "output_type": "execute_result"
    }
   ],
   "source": [
    "list(a.keys())"
   ]
  },
  {
   "cell_type": "code",
   "execution_count": 20,
   "id": "add832ee",
   "metadata": {},
   "outputs": [
    {
     "data": {
      "text/plain": [
       "dict_values(['a', 'b'])"
      ]
     },
     "execution_count": 20,
     "metadata": {},
     "output_type": "execute_result"
    }
   ],
   "source": [
    "a.values()"
   ]
  },
  {
   "cell_type": "code",
   "execution_count": 21,
   "id": "3666641a",
   "metadata": {},
   "outputs": [
    {
     "data": {
      "text/plain": [
       "dict_items([(1, 'a'), (3, 'b')])"
      ]
     },
     "execution_count": 21,
     "metadata": {},
     "output_type": "execute_result"
    }
   ],
   "source": [
    "a.items()"
   ]
  },
  {
   "cell_type": "code",
   "execution_count": 23,
   "id": "4502b6cd",
   "metadata": {},
   "outputs": [],
   "source": [
    "a.clear()"
   ]
  },
  {
   "cell_type": "code",
   "execution_count": 24,
   "id": "f610a704",
   "metadata": {},
   "outputs": [
    {
     "data": {
      "text/plain": [
       "{}"
      ]
     },
     "execution_count": 24,
     "metadata": {},
     "output_type": "execute_result"
    }
   ],
   "source": [
    "a"
   ]
  },
  {
   "cell_type": "code",
   "execution_count": 25,
   "id": "2274cab3",
   "metadata": {},
   "outputs": [],
   "source": [
    "dic= {'name':'pey','phone':'010~'}"
   ]
  },
  {
   "cell_type": "code",
   "execution_count": 26,
   "id": "9be03b2e",
   "metadata": {},
   "outputs": [
    {
     "data": {
      "text/plain": [
       "'pey'"
      ]
     },
     "execution_count": 26,
     "metadata": {},
     "output_type": "execute_result"
    }
   ],
   "source": [
    "dic.get('name')"
   ]
  },
  {
   "cell_type": "code",
   "execution_count": 27,
   "id": "82da5bc8",
   "metadata": {},
   "outputs": [
    {
     "data": {
      "text/plain": [
       "True"
      ]
     },
     "execution_count": 27,
     "metadata": {},
     "output_type": "execute_result"
    }
   ],
   "source": [
    "'name' in dic"
   ]
  },
  {
   "cell_type": "code",
   "execution_count": 100,
   "id": "847e34f8",
   "metadata": {},
   "outputs": [],
   "source": [
    "s1=set([1,2,3])\n",
    "l1= list(s1)"
   ]
  },
  {
   "cell_type": "code",
   "execution_count": 101,
   "id": "1d5e706a",
   "metadata": {},
   "outputs": [],
   "source": [
    "s2 = set({3,4,5,6,7,8})"
   ]
  },
  {
   "cell_type": "code",
   "execution_count": 102,
   "id": "47a3b220",
   "metadata": {},
   "outputs": [
    {
     "data": {
      "text/plain": [
       "{3}"
      ]
     },
     "execution_count": 102,
     "metadata": {},
     "output_type": "execute_result"
    }
   ],
   "source": [
    "s1 & s2"
   ]
  },
  {
   "cell_type": "code",
   "execution_count": 103,
   "id": "2d2f4ad8",
   "metadata": {},
   "outputs": [
    {
     "data": {
      "text/plain": [
       "{1, 2, 3, 4, 5, 6, 7, 8}"
      ]
     },
     "execution_count": 103,
     "metadata": {},
     "output_type": "execute_result"
    }
   ],
   "source": [
    "s1.union(s2)"
   ]
  },
  {
   "cell_type": "code",
   "execution_count": 104,
   "id": "9a2818c5",
   "metadata": {},
   "outputs": [],
   "source": [
    "#값 추가하기 "
   ]
  },
  {
   "cell_type": "code",
   "execution_count": 105,
   "id": "56276e07",
   "metadata": {},
   "outputs": [],
   "source": [
    "s1.update([4,5,6])"
   ]
  },
  {
   "cell_type": "code",
   "execution_count": 106,
   "id": "f8239d3d",
   "metadata": {},
   "outputs": [
    {
     "data": {
      "text/plain": [
       "{1, 2, 3, 4, 5, 6}"
      ]
     },
     "execution_count": 106,
     "metadata": {},
     "output_type": "execute_result"
    }
   ],
   "source": [
    "s1"
   ]
  },
  {
   "cell_type": "markdown",
   "id": "17c79cfd",
   "metadata": {},
   "source": [
    "불 자료형"
   ]
  },
  {
   "cell_type": "code",
   "execution_count": 118,
   "id": "625c4809",
   "metadata": {},
   "outputs": [],
   "source": [
    "a = True"
   ]
  },
  {
   "cell_type": "code",
   "execution_count": 21,
   "id": "412b740d",
   "metadata": {},
   "outputs": [],
   "source": [
    "b= False"
   ]
  },
  {
   "cell_type": "markdown",
   "id": "4e08fbc8",
   "metadata": {},
   "source": [
    "while 조건문:\n",
    "    수행할 문장"
   ]
  },
  {
   "cell_type": "code",
   "execution_count": 119,
   "id": "6a7957c2",
   "metadata": {},
   "outputs": [],
   "source": [
    "a =[1,2,3,4]"
   ]
  },
  {
   "cell_type": "code",
   "execution_count": 120,
   "id": "f6845782",
   "metadata": {},
   "outputs": [],
   "source": [
    "while a:\n",
    "    a.pop()"
   ]
  },
  {
   "cell_type": "code",
   "execution_count": 123,
   "id": "978bdcfe",
   "metadata": {},
   "outputs": [
    {
     "name": "stdout",
     "output_type": "stream",
     "text": [
      "거짓\n"
     ]
    }
   ],
   "source": [
    "if []:\n",
    "    print(\"참\")\n",
    "else:\n",
    "     print(\"거짓\")"
   ]
  },
  {
   "cell_type": "markdown",
   "id": "c7910dcb",
   "metadata": {},
   "source": [
    "변수를 만드는 여러가지 방법"
   ]
  },
  {
   "cell_type": "code",
   "execution_count": 126,
   "id": "ded9654b",
   "metadata": {},
   "outputs": [],
   "source": [
    "a, b =('python','life')\n",
    "(a, b) ='python','life' #튜플\n",
    "[a, b] =('python','life') # 리스트"
   ]
  },
  {
   "cell_type": "code",
   "execution_count": 152,
   "id": "7b64d7f7",
   "metadata": {},
   "outputs": [
    {
     "name": "stdout",
     "output_type": "stream",
     "text": [
      "홀수\n"
     ]
    }
   ],
   "source": [
    "a=13\n",
    "b=a%2\n",
    "\n",
    "if a%2==0 :\n",
    "    print('짝수')\n",
    "else:\n",
    "    print('홀수')\n",
    "    "
   ]
  },
  {
   "cell_type": "code",
   "execution_count": 137,
   "id": "3a53af6e",
   "metadata": {},
   "outputs": [
    {
     "data": {
      "text/plain": [
       "1"
      ]
     },
     "execution_count": 137,
     "metadata": {},
     "output_type": "execute_result"
    }
   ],
   "source": [
    "a=13\n",
    "b=a%2\n",
    "b"
   ]
  },
  {
   "cell_type": "code",
   "execution_count": 143,
   "id": "1a5fe305",
   "metadata": {},
   "outputs": [],
   "source": [
    "a='a:b:c:d'"
   ]
  },
  {
   "cell_type": "code",
   "execution_count": 149,
   "id": "bbe28b9c",
   "metadata": {},
   "outputs": [
    {
     "data": {
      "text/plain": [
       "'a:b:c:d'"
      ]
     },
     "execution_count": 149,
     "metadata": {},
     "output_type": "execute_result"
    }
   ],
   "source": [
    "a"
   ]
  },
  {
   "cell_type": "code",
   "execution_count": 150,
   "id": "1192b9ae",
   "metadata": {},
   "outputs": [
    {
     "name": "stdout",
     "output_type": "stream",
     "text": [
      "택시를 타고 가라\n"
     ]
    }
   ],
   "source": [
    "money= True\n",
    "if money:\n",
    "    print(\"택시를 타고 가라\")\n",
    "else:\n",
    "    print(\"걸어가라\")"
   ]
  },
  {
   "cell_type": "code",
   "execution_count": 154,
   "id": "633a3250",
   "metadata": {},
   "outputs": [],
   "source": [
    "#X==Y #==X와Y가 같다 "
   ]
  },
  {
   "cell_type": "code",
   "execution_count": 155,
   "id": "8affcf9a",
   "metadata": {},
   "outputs": [
    {
     "data": {
      "text/plain": [
       "True"
      ]
     },
     "execution_count": 155,
     "metadata": {},
     "output_type": "execute_result"
    }
   ],
   "source": [
    "1 in [1,2,3]"
   ]
  },
  {
   "cell_type": "code",
   "execution_count": 156,
   "id": "48fc3b63",
   "metadata": {},
   "outputs": [
    {
     "data": {
      "text/plain": [
       "False"
      ]
     },
     "execution_count": 156,
     "metadata": {},
     "output_type": "execute_result"
    }
   ],
   "source": [
    "1 not in [1,2,3]"
   ]
  },
  {
   "cell_type": "markdown",
   "id": "a2ec236a",
   "metadata": {},
   "source": [
    "주머니에 돈이 있으면 택시를 타고, 주머니에 돈은 없지만 카드가 있으면 택시를 타고, 돈도 없고 카드도 없으면 걸어가라."
   ]
  },
  {
   "cell_type": "markdown",
   "id": "0f0c6d2e",
   "metadata": {},
   "source": [
    "while 반복문 "
   ]
  },
  {
   "cell_type": "code",
   "execution_count": 32,
   "id": "7bb771bb",
   "metadata": {},
   "outputs": [],
   "source": [
    "treeHit= 0 "
   ]
  },
  {
   "cell_type": "code",
   "execution_count": 39,
   "id": "841e85ef",
   "metadata": {},
   "outputs": [],
   "source": [
    "while treeHit <0:\n",
    "    treeHit = treeHit+1\n",
    "    print(\"나무를%d만큼 찍었습니다.\"% treeHit)\n",
    "    if treeHit == 10:\n",
    "        print(\"나무넘어갑니다.\")"
   ]
  },
  {
   "cell_type": "markdown",
   "id": "72f4ca4a",
   "metadata": {},
   "source": [
    "for 문"
   ]
  },
  {
   "cell_type": "code",
   "execution_count": 41,
   "id": "d2c89ea4",
   "metadata": {},
   "outputs": [
    {
     "name": "stdout",
     "output_type": "stream",
     "text": [
      "0123456789"
     ]
    }
   ],
   "source": [
    "for i in range(10):\n",
    "    print(i, end='')"
   ]
  },
  {
   "cell_type": "markdown",
   "id": "e54a99b7",
   "metadata": {},
   "source": [
    "파일 생성하기"
   ]
  },
  {
   "cell_type": "code",
   "execution_count": 44,
   "id": "bbeb9ea0",
   "metadata": {},
   "outputs": [],
   "source": [
    "#f = open('','w')\n",
    "#f.close() #파일 객체 닫아주는 역할을 함 해도 되고 안해도 되고 근데 해야 오류 안난대\n",
    "\n",
    "#r 읽기 \n",
    "#w 쓰기\n",
    "#a 추가모드"
   ]
  },
  {
   "cell_type": "markdown",
   "id": "1a0e9faf",
   "metadata": {},
   "source": [
    "정규표현식"
   ]
  },
  {
   "cell_type": "markdown",
   "id": "9c6190df",
   "metadata": {},
   "source": [
    "'''\n",
    "\\ - 다른 문자와 함께 사용되어 특수한 의미로 사용\n",
    "\n",
    "- \\d : 숫자를 [0-9]와 동일 (digit)\n",
    "- \\D : 숫자가 아닌 문자 [^0-9]와 동일\n",
    "- \\s : 공백 문자(띄어쓰기, 탭, 엔터 등) (script)\n",
    "- \\S : 공백이 아닌 문자\n",
    "- \\w : 알파벳대소문자, 숫자 [0-9a-zA-Z]와 동일 (word)\n",
    "- \\W : non alpha-numeric 문자 [^0-9a-zA-Z]와 동일\n",
    "- \\t, \\n, \\r - tab, newline, return\n",
    "'''"
   ]
  },
  {
   "cell_type": "code",
   "execution_count": null,
   "id": "00f547c2",
   "metadata": {},
   "outputs": [],
   "source": []
  }
 ],
 "metadata": {
  "kernelspec": {
   "display_name": "Python 3 (ipykernel)",
   "language": "python",
   "name": "python3"
  },
  "language_info": {
   "codemirror_mode": {
    "name": "ipython",
    "version": 3
   },
   "file_extension": ".py",
   "mimetype": "text/x-python",
   "name": "python",
   "nbconvert_exporter": "python",
   "pygments_lexer": "ipython3",
   "version": "3.9.7"
  }
 },
 "nbformat": 4,
 "nbformat_minor": 5
}
